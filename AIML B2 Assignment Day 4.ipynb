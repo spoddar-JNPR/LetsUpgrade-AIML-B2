{
 "cells": [
  {
   "cell_type": "markdown",
   "metadata": {},
   "source": [
    "# Question 1 :\n",
    "Research on whether addition, subtraction, multiplication, division, floor division, and modulo operations\n",
    "be performed on complex numbers. Based on your study, implement a Python program to demonstrate\n",
    "these operations."
   ]
  },
  {
   "cell_type": "markdown",
   "metadata": {},
   "source": [
    "# Answer 1:"
   ]
  },
  {
   "cell_type": "markdown",
   "metadata": {},
   "source": [
    "Based on my research only addition, subtraction, multiplication, and division operations can be performed on complex numbers. \n",
    "Whereas floor division and modulo operations cannot be performed on complex numbers."
   ]
  },
  {
   "cell_type": "markdown",
   "metadata": {},
   "source": [
    "Below is a program for the demonstration of  addition, subtraction, multiplication, and division operations on complex numbers"
   ]
  },
  {
   "cell_type": "code",
   "execution_count": 2,
   "metadata": {},
   "outputs": [
    {
     "name": "stdout",
     "output_type": "stream",
     "text": [
      "Enter the 1st complex number = 9+8j\n",
      "Enter the 2nd complex number = 3+2j\n",
      "Addition of the two complex number is =  (12+10j)\n",
      "Subtraction of the two complex number is =  (6+6j)\n",
      "Multiplication of the two complex number is =  (11+42j)\n",
      "Division of the two complex number is =  (3.3076923076923075+0.46153846153846156j)\n"
     ]
    }
   ],
   "source": [
    "a = complex(input(\"Enter the 1st complex number = \"))\n",
    "b = complex(input(\"Enter the 2nd complex number = \"))\n",
    "c = a+b\n",
    "d = a-b\n",
    "e = a*b\n",
    "f = a/b\n",
    "print(\"Addition of the two complex number is = \",c)\n",
    "print(\"Subtraction of the two complex number is = \",d)\n",
    "print(\"Multiplication of the two complex number is = \",e)\n",
    "print(\"Division of the two complex number is = \",f)"
   ]
  },
  {
   "cell_type": "markdown",
   "metadata": {},
   "source": [
    "# Question 2 :\n",
    "Research on range() functions and its parameters. Create a markdown cell and write in your own words\n",
    "(no copy-paste from google please) what you understand about it. Implement a small program of your\n",
    "choice on the same."
   ]
  },
  {
   "cell_type": "markdown",
   "metadata": {},
   "source": [
    "# Answer 2:"
   ]
  },
  {
   "cell_type": "markdown",
   "metadata": {},
   "source": [
    "The range() function is used to generate a sequence of numbers.\n",
    "\n",
    "For example:\n",
    "range(n) : range(5) => range is from 0 to (5-1)\n",
    "range(5) : it goes from 0 to 4 to generate a sequence of numbers.\n",
    "\n",
    "NOTE: range() is commonly used in for looping(for iterations)\n",
    "\n",
    "There are 3 ways by which we can use range function\n",
    "1. range(stop) takes one parameter.\n",
    "\n",
    "here, the range goes from 0 to stop value, default step size is 1.\n",
    "\n",
    "2. range(start, stop) takes two parameters.\n",
    "\n",
    "here, the range goes from start value to stop value, default stepsize is 1.\n",
    "\n",
    "3. range(start, stop, step) takes three parameters.\n",
    "\n",
    "here, the range goes from start value to stop value, the 3rd parameter defines the stepsize."
   ]
  },
  {
   "cell_type": "code",
   "execution_count": 15,
   "metadata": {},
   "outputs": [
    {
     "name": "stdout",
     "output_type": "stream",
     "text": [
      "0 1 2 3 4 5 6 7 "
     ]
    }
   ],
   "source": [
    "# Program where range(stop) takes one parameter.\n",
    "x = range(8)\n",
    "for n in x:\n",
    "  print(n,end=\" \")"
   ]
  },
  {
   "cell_type": "code",
   "execution_count": 18,
   "metadata": {},
   "outputs": [
    {
     "name": "stdout",
     "output_type": "stream",
     "text": [
      "2 3 4 5 6 7 "
     ]
    }
   ],
   "source": [
    "# Program where range(start,stop) takes two parameters.\n",
    "x = range(2, 8)\n",
    "for n in x:\n",
    "  print(n,end=\" \")"
   ]
  },
  {
   "cell_type": "code",
   "execution_count": 19,
   "metadata": {},
   "outputs": [
    {
     "name": "stdout",
     "output_type": "stream",
     "text": [
      "4 7 10 13 16 19 22 25 28 31 34 "
     ]
    }
   ],
   "source": [
    "# Program where range(start,stop,step) takes three parameters.\n",
    "x = range(4, 35, 3)\n",
    "for n in x:\n",
    "  print(n,end=\" \")"
   ]
  },
  {
   "cell_type": "markdown",
   "metadata": {},
   "source": [
    "# Question 3:\n",
    "Consider two numbers. Perform their subtraction and if the result of subtraction is greater than 25, print\n",
    "their multiplication result else print their division result."
   ]
  },
  {
   "cell_type": "markdown",
   "metadata": {},
   "source": [
    "# Answer 3:"
   ]
  },
  {
   "cell_type": "code",
   "execution_count": 1,
   "metadata": {},
   "outputs": [
    {
     "name": "stdout",
     "output_type": "stream",
     "text": [
      "Enter the 1st number a = 56\n",
      "Enter the 2nd number b = 33\n",
      "Division of the two numbers is =  1.696969696969697\n"
     ]
    }
   ],
   "source": [
    "a = int(input(\"Enter the 1st number a = \"))\n",
    "b = int(input(\"Enter the 2nd number b = \"))\n",
    "result = a-b\n",
    "if result > 25:\n",
    "    print (\"Multiplication of the two numbers is = \",a*b)\n",
    "else:\n",
    "    print (\"Division of the two numbers is = \",a/b)"
   ]
  },
  {
   "cell_type": "code",
   "execution_count": 22,
   "metadata": {},
   "outputs": [
    {
     "name": "stdout",
     "output_type": "stream",
     "text": [
      "Enter the 1st number a = 98\n",
      "Enter the 2nd number b = 21\n",
      "Multiplication of the two numbers is =  2058\n"
     ]
    }
   ],
   "source": [
    "a = int(input(\"Enter the 1st number a = \"))\n",
    "b = int(input(\"Enter the 2nd number b = \"))\n",
    "result = a-b\n",
    "if result > 25:\n",
    "    print (\"Multiplication of the two numbers is = \",a*b)\n",
    "else:\n",
    "    print (\"Division of the two numbers is = \",a/b)"
   ]
  },
  {
   "cell_type": "markdown",
   "metadata": {},
   "source": [
    "# Question 4:\n",
    "Consider a list of 10 elements of integer values. If the number in the list is divisible by 2, print the result as\n",
    "\"square of that number minus 2\"."
   ]
  },
  {
   "cell_type": "markdown",
   "metadata": {},
   "source": [
    "# Answer 4:"
   ]
  },
  {
   "cell_type": "code",
   "execution_count": 13,
   "metadata": {},
   "outputs": [
    {
     "name": "stdout",
     "output_type": "stream",
     "text": [
      "62\n",
      "34\n",
      "2\n",
      "34\n"
     ]
    }
   ],
   "source": [
    "lst = [1,3,9,8,6,7,3,2,11,6]\n",
    "for i in lst:\n",
    "    if i%2==0:\n",
    "        print((i**2)-2)\n",
    "    else:\n",
    "        continue\n"
   ]
  },
  {
   "cell_type": "markdown",
   "metadata": {},
   "source": [
    "# Question 5:\n",
    "Consider a list of 10 elements. Print all the elements in the list which are greater than 7 when that number\n",
    "is divided 2."
   ]
  },
  {
   "cell_type": "markdown",
   "metadata": {},
   "source": [
    "# Answer 5:"
   ]
  },
  {
   "cell_type": "code",
   "execution_count": 15,
   "metadata": {},
   "outputs": [
    {
     "name": "stdout",
     "output_type": "stream",
     "text": [
      "33\n",
      "38\n",
      "26\n",
      "17\n",
      "31\n",
      "20\n"
     ]
    }
   ],
   "source": [
    "lst = [11,33,9,38,26,17,31,20,13,6]\n",
    "for i in lst:\n",
    "    if (i/2) > 7:\n",
    "        print(i)\n",
    "    else:\n",
    "        continue\n"
   ]
  },
  {
   "cell_type": "code",
   "execution_count": null,
   "metadata": {},
   "outputs": [],
   "source": []
  }
 ],
 "metadata": {
  "kernelspec": {
   "display_name": "Python 3",
   "language": "python",
   "name": "python3"
  },
  "language_info": {
   "codemirror_mode": {
    "name": "ipython",
    "version": 3
   },
   "file_extension": ".py",
   "mimetype": "text/x-python",
   "name": "python",
   "nbconvert_exporter": "python",
   "pygments_lexer": "ipython3",
   "version": "3.8.3"
  }
 },
 "nbformat": 4,
 "nbformat_minor": 4
}
