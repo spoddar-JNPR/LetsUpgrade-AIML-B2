{
 "cells": [
  {
   "cell_type": "markdown",
   "metadata": {},
   "source": [
    "# Question 1:\n",
    "Write a program to subtract two complex numbers in Python."
   ]
  },
  {
   "cell_type": "code",
   "execution_count": 11,
   "metadata": {},
   "outputs": [
    {
     "name": "stdout",
     "output_type": "stream",
     "text": [
      "Enter the 1st complex number = 2+3j\n",
      "Enter the 2nd complex number = 3+4j\n",
      "(-1-1j)\n"
     ]
    }
   ],
   "source": [
    "a = complex(input(\"Enter the 1st complex number = \"))\n",
    "b = complex(input(\"Enter the 2nd complex number = \"))\n",
    "c = a-b\n",
    "print(c)"
   ]
  },
  {
   "cell_type": "markdown",
   "metadata": {},
   "source": [
    "# Question 2 :\n",
    "Write a program to find the fourth root of a number."
   ]
  },
  {
   "cell_type": "code",
   "execution_count": 21,
   "metadata": {},
   "outputs": [
    {
     "name": "stdout",
     "output_type": "stream",
     "text": [
      "Enter the number whose fourth root needs to be found out = 81\n",
      "The fourth root of 81 is = 3.0\n"
     ]
    }
   ],
   "source": [
    "d = int(input(\"Enter the number whose fourth root needs to be found out = \"))\n",
    "e = d**0.25\n",
    "print(\"The fourth root of\",d,\"is =\",e)"
   ]
  },
  {
   "cell_type": "markdown",
   "metadata": {},
   "source": [
    "# Question 3:\n",
    "Write a program to swap two numbers in Python with the help of a temporary variable."
   ]
  },
  {
   "cell_type": "code",
   "execution_count": 1,
   "metadata": {},
   "outputs": [
    {
     "name": "stdout",
     "output_type": "stream",
     "text": [
      "Enter the 1st number f = 26\n",
      "Enter the 2nd number g = 59\n",
      "The value of f after swapping is :  59\n",
      "The value of g after swapping is :  26\n"
     ]
    }
   ],
   "source": [
    "f = int(input(\"Enter the 1st number f = \"))\n",
    "g = int(input(\"Enter the 2nd number g = \"))\n",
    "temp = f\n",
    "f = g\n",
    "g = temp\n",
    "print(\"The value of f after swapping is : \",f)\n",
    "print(\"The value of g after swapping is : \",g)\n"
   ]
  },
  {
   "cell_type": "markdown",
   "metadata": {},
   "source": [
    "# Question 4:\n",
    "Write a program to swap two numbers in Python without using a temporary variable."
   ]
  },
  {
   "cell_type": "code",
   "execution_count": 1,
   "metadata": {},
   "outputs": [
    {
     "name": "stdout",
     "output_type": "stream",
     "text": [
      "Enter the 1st number f = 56\n",
      "Enter the 2nd number g = 89\n",
      "The value of f after swapping is :  89\n",
      "The value of g after swapping is :  56\n"
     ]
    }
   ],
   "source": [
    "f = int(input(\"Enter the 1st number f = \"))\n",
    "g = int(input(\"Enter the 2nd number g = \"))\n",
    "f = f+g\n",
    "g = f-g\n",
    "f = f-g\n",
    "print(\"The value of f after swapping is : \",f)\n",
    "print(\"The value of g after swapping is : \",g)\n"
   ]
  },
  {
   "cell_type": "markdown",
   "metadata": {},
   "source": [
    "# Question 5:\n",
    "Write a program to convert Fahrenheit to kelvin and celsius both."
   ]
  },
  {
   "cell_type": "code",
   "execution_count": 8,
   "metadata": {},
   "outputs": [
    {
     "name": "stdout",
     "output_type": "stream",
     "text": [
      "Enter temperature in fahrenheit: 66\n",
      "66.0  Fahrenheit is:  18.88888888888889  celsius\n",
      "66.0  Fahrenheit is:  292.0388888888889  kelvin\n"
     ]
    }
   ],
   "source": [
    "fahrenheit = float(input(\"Enter temperature in fahrenheit: \"))\n",
    "celsius = (fahrenheit - 32) / 1.8\n",
    "kelvin = 273.15 + celsius\n",
    "print(fahrenheit,\" Fahrenheit is: \",celsius,\" celsius\")\n",
    "print(fahrenheit,\" Fahrenheit is: \",kelvin,\" kelvin\")"
   ]
  },
  {
   "cell_type": "markdown",
   "metadata": {},
   "source": [
    "# Question 6:\n",
    "Write a program to demonstrate all the available data types in Python. Hint: Use type() function."
   ]
  },
  {
   "cell_type": "code",
   "execution_count": 20,
   "metadata": {
    "scrolled": false
   },
   "outputs": [
    {
     "name": "stdout",
     "output_type": "stream",
     "text": [
      "Type of a:  <class 'int'>\n",
      "\n",
      "Type of b:  <class 'float'>\n",
      "\n",
      "Type of c:  <class 'complex'>\n",
      "\n",
      "Type of str1:  <class 'str'>\n",
      "\n",
      "Type of lst1:  <class 'list'>\n",
      "\n",
      "Type of lst2:  <class 'tuple'>\n"
     ]
    }
   ],
   "source": [
    "# Data type of Integer number\n",
    "a = 5\n",
    "print(\"Type of a: \", type(a)) \n",
    "\n",
    "# Data type of Floating point number\n",
    "b = 5.0\n",
    "print(\"\\nType of b: \", type(b)) \n",
    "\n",
    "# Data type of Complex number\n",
    "c = 2 + 4j\n",
    "print(\"\\nType of c: \", type(c))\n",
    "\n",
    "# Data type of String\n",
    "str1 = \"Learning AIML advanced from LetsUpgrade\"  \n",
    "print(\"\\nType of str1: \", type(str1))\n",
    "\n",
    "# Data type of List\n",
    "lst1 = [1,2,3,4,5,6,7,8,9]\n",
    "print(\"\\nType of lst1: \", type(lst1))\n",
    "\n",
    "# Data type of tuple\n",
    "lst2 = (1,2,3,4,5,6,7,8,9)\n",
    "print(\"\\nType of lst2: \", type(lst2))"
   ]
  },
  {
   "cell_type": "code",
   "execution_count": null,
   "metadata": {},
   "outputs": [],
   "source": []
  }
 ],
 "metadata": {
  "kernelspec": {
   "display_name": "Python 3",
   "language": "python",
   "name": "python3"
  },
  "language_info": {
   "codemirror_mode": {
    "name": "ipython",
    "version": 3
   },
   "file_extension": ".py",
   "mimetype": "text/x-python",
   "name": "python",
   "nbconvert_exporter": "python",
   "pygments_lexer": "ipython3",
   "version": "3.8.3"
  }
 },
 "nbformat": 4,
 "nbformat_minor": 4
}
