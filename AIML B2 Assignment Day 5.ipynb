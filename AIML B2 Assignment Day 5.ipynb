{
 "cells": [
  {
   "cell_type": "markdown",
   "metadata": {},
   "source": [
    "# Question 1 :\n",
    "Write a Python program to find the first 20 non-even prime natural numbers."
   ]
  },
  {
   "cell_type": "markdown",
   "metadata": {},
   "source": [
    "# Answer 1:"
   ]
  },
  {
   "cell_type": "code",
   "execution_count": 5,
   "metadata": {},
   "outputs": [
    {
     "name": "stdout",
     "output_type": "stream",
     "text": [
      "First N prime number, N ? 20\n",
      "[2, 3, 5, 7, 11, 13, 17, 19, 23, 29, 31, 37, 41, 43, 47, 53, 59, 61, 67, 71]\n"
     ]
    }
   ],
   "source": [
    "n = int(input(\"First N prime number, N ? \"))\n",
    "p = [2]\n",
    "c = 2\n",
    "\n",
    "while len(p) < n:\n",
    "    j = 0\n",
    "    c = c+1\n",
    "    while j < len(p):\n",
    "        if c % p[j] == 0:\n",
    "            break\n",
    "        elif j == len(p) - 1:\n",
    "            p.append(c)\n",
    "        j += 1\n",
    "print(p)"
   ]
  },
  {
   "cell_type": "markdown",
   "metadata": {},
   "source": [
    "# Question 2 :\n",
    "Write a Python program to implement 15 functions of string."
   ]
  },
  {
   "cell_type": "code",
   "execution_count": 12,
   "metadata": {
    "scrolled": false
   },
   "outputs": [
    {
     "name": "stdout",
     "output_type": "stream",
     "text": [
      "Hi LetsUpgradeLearningAIML\n",
      "Hi LetsUpgradeHi LetsUpgradeHi LetsUpgrade\n",
      "lEARNINGaiml\n",
      "sumeet poddar\n",
      "SUMEET PODDAR\n",
      "u\n",
      "A\n",
      "False\n",
      "True\n",
      "Hi letsupgrade\n",
      "Hi LstsUpgrads\n",
      "True\n",
      "False\n",
      "11\n",
      "13\n"
     ]
    },
    {
     "data": {
      "text/plain": [
       "True"
      ]
     },
     "execution_count": 12,
     "metadata": {},
     "output_type": "execute_result"
    }
   ],
   "source": [
    "str1 = \"Hi LetsUpgrade\"\n",
    "str2 = \"LearningAIML\"\n",
    "str3 = \"Sumeet Poddar\"\n",
    "\n",
    "#String functions are as follows:\n",
    "\n",
    "#1. Concatenating two strings\n",
    "print(str1+str2)\n",
    "\n",
    "#2. repeting the string\n",
    "print(str1*3)\n",
    "\n",
    "#3. Swaping the case of a string\n",
    "print(str2.swapcase())\n",
    "\n",
    "#4. Make all the charecterters in lowercase in a string\n",
    "print(str3.lower())\n",
    "\n",
    "#5. Make all the charecterters in uppercase in a string\n",
    "print(str3.upper())\n",
    "\n",
    "#6. Find the highest ASCII value in a string\n",
    "print(max(str3))\n",
    "\n",
    "#7. Find the lowest ASCII value in a string\n",
    "print(min(str2))\n",
    "\n",
    "#8. Checks if the string contains all numbers\n",
    "print(str1.isdigit())\n",
    "\n",
    "#9. Checks if the string contains all alphabets\n",
    "print(str2.isalpha())\n",
    "\n",
    "#10. Capitalize only the first charecter like in a sentence\n",
    "print(str1.capitalize())\n",
    "\n",
    "#11. Replace a character with another character in a string\n",
    "print(str1.replace('e','s'))\n",
    "\n",
    "#12. String traversal for membership charater\n",
    "print('a' in str1)\n",
    "print('o' in str1)\n",
    "\n",
    "#13. Find the index of a particular character in the string\n",
    "print(str1.find('a'))\n",
    "\n",
    "#14. Find the lenght of a string\n",
    "print(len(str3))\n",
    "\n",
    "#15. Check if the string ends with the particular charater or string\n",
    "str3.endswith('r')"
   ]
  },
  {
   "cell_type": "markdown",
   "metadata": {},
   "source": [
    "# Question 3:\n",
    "Write a Python program to check if the given string is a Palindrome or Anagram or None of them. Display\n",
    "the message accordingly to the user."
   ]
  },
  {
   "cell_type": "markdown",
   "metadata": {},
   "source": [
    "# Answer 3:"
   ]
  },
  {
   "cell_type": "code",
   "execution_count": 10,
   "metadata": {},
   "outputs": [
    {
     "name": "stdout",
     "output_type": "stream",
     "text": [
      "Enter the 1st string = civic\n",
      "Enter the 2nd string = madam\n",
      "The strings are Palindroms.\n"
     ]
    }
   ],
   "source": [
    "s1 = input(\"Enter the 1st string = \")\n",
    "s2 = input(\"Enter the 2nd string = \") \n",
    "\n",
    "if(sorted(s1)== sorted(s2)): \n",
    "        print(\"The strings are Anagrams.\") \n",
    "elif (s1 == s1[::-1]) & (s2 == s2[::-1]):\n",
    "        print(\"The strings are Palindroms.\")\n",
    "else:\n",
    "    print(\"None of them\")"
   ]
  },
  {
   "cell_type": "code",
   "execution_count": 11,
   "metadata": {},
   "outputs": [
    {
     "name": "stdout",
     "output_type": "stream",
     "text": [
      "Enter the 1st string = abcd\n",
      "Enter the 2nd string = dabc\n",
      "The strings are Anagrams.\n"
     ]
    }
   ],
   "source": [
    "s1 = input(\"Enter the 1st string = \")\n",
    "s2 = input(\"Enter the 2nd string = \") \n",
    "\n",
    "if(sorted(s1)== sorted(s2)): \n",
    "        print(\"The strings are Anagrams.\") \n",
    "elif (s1 == s1[::-1]) & (s2 == s2[::-1]):\n",
    "        print(\"The strings are Palindroms.\")\n",
    "else:\n",
    "    print(\"None of them\")"
   ]
  },
  {
   "cell_type": "markdown",
   "metadata": {},
   "source": [
    "# Question 4:\n",
    "Write a Python's user-defined function that removes all the additional characters from the string and\n",
    "convert it finally to lower case using built-in lower(). eg: If the string is \"Dr. Darshan Ingle @AIML Trainer\",\n",
    "then the output be \"drdarshaningleaimltrainer\"."
   ]
  },
  {
   "cell_type": "markdown",
   "metadata": {},
   "source": [
    "# Answer 4:"
   ]
  },
  {
   "cell_type": "code",
   "execution_count": 1,
   "metadata": {},
   "outputs": [
    {
     "name": "stdout",
     "output_type": "stream",
     "text": [
      "Original String : Dr. !Darsh#an% Ing&le @AIML* Tr/ainer\n",
      "New String is : DrDarshanIngleAIMLTrainer\n",
      "Resultant string output is :  \n",
      "drdarshaningleaimltrainer\n"
     ]
    }
   ],
   "source": [
    "special_chars = ['!', '@', '#','$','%', '&', '*',':', ';', '/',' ','.']\n",
    "str1 = \"Dr. !Darsh#an% Ing&le @AIML* Tr/ainer\"\n",
    "print(\"Original String : \" + str1)\n",
    "str2 = ''.join((filter(lambda i: i not in special_chars, str1)))\n",
    "print(\"New String is : \" + str(str2))\n",
    "print(\"Resultant string output is :  \")\n",
    "print(str2.lower())"
   ]
  }
 ],
 "metadata": {
  "kernelspec": {
   "display_name": "Python 3",
   "language": "python",
   "name": "python3"
  },
  "language_info": {
   "codemirror_mode": {
    "name": "ipython",
    "version": 3
   },
   "file_extension": ".py",
   "mimetype": "text/x-python",
   "name": "python",
   "nbconvert_exporter": "python",
   "pygments_lexer": "ipython3",
   "version": "3.8.3"
  }
 },
 "nbformat": 4,
 "nbformat_minor": 4
}
